{
 "cells": [
  {
   "metadata": {},
   "cell_type": "markdown",
   "source": "",
   "id": "ea1d697f0eea4f6"
  },
  {
   "cell_type": "code",
   "execution_count": null,
   "id": "initial_id",
   "metadata": {
    "collapsed": true
   },
   "outputs": [],
   "source": [
    "import pandas as pd\n",
    "import seaborn as sns\n",
    "import matplotlib.pyplot as plt"
   ]
  },
  {
   "metadata": {},
   "cell_type": "markdown",
   "source": " Cargar el dataset",
   "id": "ec90cf896e27415c"
  },
  {
   "metadata": {},
   "cell_type": "code",
   "outputs": [],
   "execution_count": null,
   "source": "df = pd.read_csv('../data/raw/dataset_estudiantes_categorizado.csv')",
   "id": "81fa3eb88eb8b30b"
  },
  {
   "metadata": {},
   "cell_type": "markdown",
   "source": "Ver las primeras filas del dataset",
   "id": "83401e4d4463b8a9"
  },
  {
   "metadata": {},
   "cell_type": "code",
   "outputs": [],
   "execution_count": null,
   "source": "df.head()",
   "id": "20afcdc2133231e7"
  },
  {
   "metadata": {},
   "cell_type": "markdown",
   "source": "Estadísticas descriptivas",
   "id": "9cf20cc4c1f56ecd"
  },
  {
   "metadata": {},
   "cell_type": "code",
   "outputs": [],
   "execution_count": null,
   "source": "df.describe()",
   "id": "c63cc455d4afa574"
  },
  {
   "metadata": {},
   "cell_type": "markdown",
   "source": "Verificar si hay valores faltantes",
   "id": "5fd297ddba86e654"
  },
  {
   "metadata": {},
   "cell_type": "code",
   "outputs": [],
   "execution_count": null,
   "source": "df.isnull().sum()",
   "id": "df1803098684d74a"
  },
  {
   "metadata": {},
   "cell_type": "markdown",
   "source": "Visualización de las distribuciones de las características",
   "id": "cc6d0cfdb3e74d89"
  },
  {
   "metadata": {},
   "cell_type": "code",
   "outputs": [],
   "execution_count": null,
   "source": [
    "sns.histplot(df['calificacion'], kde=True)\n",
    "plt.title(\"Distribución de Calificaciones\")\n",
    "plt.show()\n",
    "\n",
    "sns.histplot(df['asistencia'], kde=True)\n",
    "plt.title(\"Distribución de Asistencia\")\n",
    "plt.show()"
   ],
   "id": "9c20e23e1e92a2fe"
  },
  {
   "metadata": {},
   "cell_type": "markdown",
   "source": "Verificar la relación entre las variables (por ejemplo, entre calificación y deserción)",
   "id": "813bf1b97f273748"
  },
  {
   "metadata": {},
   "cell_type": "code",
   "outputs": [],
   "execution_count": null,
   "source": [
    "sns.boxplot(x='deserta', y='calificacion', data=df)\n",
    "plt.title(\"Relación entre Deserción y Calificación\")\n",
    "plt.show()"
   ],
   "id": "671e6658bad634"
  }
 ],
 "metadata": {
  "kernelspec": {
   "display_name": "Python 3",
   "language": "python",
   "name": "python3"
  },
  "language_info": {
   "codemirror_mode": {
    "name": "ipython",
    "version": 2
   },
   "file_extension": ".py",
   "mimetype": "text/x-python",
   "name": "python",
   "nbconvert_exporter": "python",
   "pygments_lexer": "ipython2",
   "version": "2.7.6"
  }
 },
 "nbformat": 4,
 "nbformat_minor": 5
}
