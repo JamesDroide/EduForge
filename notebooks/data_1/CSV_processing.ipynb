{
 "cells": [
  {
   "cell_type": "code",
   "id": "initial_id",
   "metadata": {
    "collapsed": true,
    "ExecuteTime": {
     "end_time": "2025-06-05T04:46:12.192494Z",
     "start_time": "2025-06-05T04:46:12.179439Z"
    }
   },
   "source": [
    "import pandas as pd\n",
    "from sklearn.ensemble import RandomForestClassifier\n",
    "from sklearn.model_selection import train_test_split, cross_val_score\n",
    "from sklearn.preprocessing import StandardScaler\n",
    "from tensorflow.keras.models import Sequential\n",
    "from tensorflow.keras.layers import Dense, Dropout\n",
    "from sklearn.metrics import classification_report, accuracy_score, confusion_matrix\n",
    "import seaborn as sns\n",
    "import matplotlib.pyplot as plt\n",
    "import numpy as np"
   ],
   "outputs": [],
   "execution_count": 50
  },
  {
   "metadata": {
    "ExecuteTime": {
     "end_time": "2025-06-05T04:46:12.270177Z",
     "start_time": "2025-06-05T04:46:12.241590Z"
    }
   },
   "cell_type": "code",
   "source": [
    "# Cargar el dataset\n",
    "df = pd.read_csv(r'C:\\Users\\james\\OneDrive\\Documentos\\PREGRADO UPAO\\CICLO 9\\Tesis I\\BackEnds\\EduForgeF\\EduForge\\data\\raw\\students.csv')"
   ],
   "id": "f120bba9bbbe0a61",
   "outputs": [],
   "execution_count": 51
  },
  {
   "metadata": {
    "ExecuteTime": {
     "end_time": "2025-06-05T04:46:12.333265Z",
     "start_time": "2025-06-05T04:46:12.319221Z"
    }
   },
   "cell_type": "code",
   "source": [
    "# Convertir \"grado\" en variable numérica\n",
    "grado_map = {'Primero': 1, 'Segundo': 2, 'Tercero': 3, 'Cuarto': 4, 'Quinto': 5}\n",
    "df['grado'] = df['grado'].map(grado_map)"
   ],
   "id": "9138a702fd050b96",
   "outputs": [],
   "execution_count": 52
  },
  {
   "metadata": {
    "ExecuteTime": {
     "end_time": "2025-06-05T04:46:12.379955Z",
     "start_time": "2025-06-05T04:46:12.365910Z"
    }
   },
   "cell_type": "code",
   "source": [
    "# Crear la columna 'desercion' basada en calificación y asistencia\n",
    "df['desercion'] = ((df['calificacion'] < 10) | (df['asistencia'] < 70)).astype(int)"
   ],
   "id": "9e116f73f3b671e4",
   "outputs": [],
   "execution_count": 53
  },
  {
   "metadata": {
    "ExecuteTime": {
     "end_time": "2025-06-05T04:46:12.427265Z",
     "start_time": "2025-06-05T04:46:12.413731Z"
    }
   },
   "cell_type": "code",
   "source": [
    "# Asignar los pesos (esto puede ser opcional, ya que Random Forest ajustará la importancia automáticamente)\n",
    "df['calificacion'] = df['calificacion']\n",
    "df['asistencia'] = df['asistencia']\n",
    "df['conducta'] = df['conducta']"
   ],
   "id": "2daee905010c5dda",
   "outputs": [],
   "execution_count": 54
  },
  {
   "metadata": {
    "ExecuteTime": {
     "end_time": "2025-06-05T04:46:12.474133Z",
     "start_time": "2025-06-05T04:46:12.460872Z"
    }
   },
   "cell_type": "code",
   "source": [
    "# Definir las características (features) y la etiqueta (target)\n",
    "X = df[['grado', 'calificacion', 'asistencia', 'conducta']]  # Características\n",
    "y = df['desercion']  # Etiqueta (target)"
   ],
   "id": "2d4a861e6d1c6c6d",
   "outputs": [],
   "execution_count": 55
  },
  {
   "metadata": {
    "ExecuteTime": {
     "end_time": "2025-06-05T04:46:12.535314Z",
     "start_time": "2025-06-05T04:46:12.513239Z"
    }
   },
   "cell_type": "code",
   "source": [
    "# Normalización de los datos\n",
    "scaler = StandardScaler()\n",
    "X_scaled = scaler.fit_transform(X)"
   ],
   "id": "abf663f708ed7ad5",
   "outputs": [],
   "execution_count": 56
  },
  {
   "metadata": {
    "ExecuteTime": {
     "end_time": "2025-06-05T04:46:12.612999Z",
     "start_time": "2025-06-05T04:46:12.602479Z"
    }
   },
   "cell_type": "code",
   "source": [
    "# Dividir en conjunto de entrenamiento y prueba (80% entrenamiento, 20% prueba)\n",
    "X_train, X_test, y_train, y_test = train_test_split(X_scaled, y, test_size=0.2, random_state=42)"
   ],
   "id": "b5b656acf54abc2a",
   "outputs": [],
   "execution_count": 57
  },
  {
   "metadata": {
    "ExecuteTime": {
     "end_time": "2025-06-05T04:46:12.693240Z",
     "start_time": "2025-06-05T04:46:12.668667Z"
    }
   },
   "cell_type": "code",
   "source": [
    "# Inicializar el modelo Random Forest\n",
    "model = RandomForestClassifier(n_estimators=100, random_state=42)"
   ],
   "id": "e9adcb7dc4f03acd",
   "outputs": [],
   "execution_count": 58
  },
  {
   "metadata": {
    "ExecuteTime": {
     "end_time": "2025-06-05T04:46:14.050943Z",
     "start_time": "2025-06-05T04:46:12.743913Z"
    }
   },
   "cell_type": "code",
   "source": [
    "# Validación cruzada\n",
    "cv_scores = cross_val_score(model, X_scaled, y, cv=5, scoring='accuracy')  # 5-fold cross-validation\n",
    "print(f\"Cross-Validation Scores: {cv_scores}\")\n",
    "print(f\"Mean Accuracy: {np.mean(cv_scores)}\")"
   ],
   "id": "f95a8d0b7af683fe",
   "outputs": [
    {
     "name": "stdout",
     "output_type": "stream",
     "text": [
      "Cross-Validation Scores: [0.99875 1.      1.      1.      1.     ]\n",
      "Mean Accuracy: 0.99975\n"
     ]
    }
   ],
   "execution_count": 59
  },
  {
   "metadata": {
    "ExecuteTime": {
     "end_time": "2025-06-05T04:46:14.427865Z",
     "start_time": "2025-06-05T04:46:14.131130Z"
    }
   },
   "cell_type": "code",
   "source": [
    "# Entrenar el modelo\n",
    "model.fit(X_train, y_train)\n",
    "\n",
    "# Realizar predicciones con el conjunto de prueba\n",
    "y_pred = model.predict(X_test)"
   ],
   "id": "4cbe53ba5ac9ca54",
   "outputs": [],
   "execution_count": 60
  },
  {
   "metadata": {
    "ExecuteTime": {
     "end_time": "2025-06-05T04:46:14.509641Z",
     "start_time": "2025-06-05T04:46:14.478036Z"
    }
   },
   "cell_type": "code",
   "source": [
    "# Evaluar el modelo\n",
    "print(\"Accuracy:\", accuracy_score(y_test, y_pred))\n",
    "print(\"Clasificación:\")\n",
    "print(classification_report(y_test, y_pred))"
   ],
   "id": "4ac8d73c1153143e",
   "outputs": [
    {
     "name": "stdout",
     "output_type": "stream",
     "text": [
      "Accuracy: 1.0\n",
      "Clasificación:\n",
      "              precision    recall  f1-score   support\n",
      "\n",
      "           0       1.00      1.00      1.00       413\n",
      "           1       1.00      1.00      1.00       387\n",
      "\n",
      "    accuracy                           1.00       800\n",
      "   macro avg       1.00      1.00      1.00       800\n",
      "weighted avg       1.00      1.00      1.00       800\n",
      "\n"
     ]
    }
   ],
   "execution_count": 61
  },
  {
   "metadata": {
    "ExecuteTime": {
     "end_time": "2025-06-05T04:46:14.789909Z",
     "start_time": "2025-06-05T04:46:14.605428Z"
    }
   },
   "cell_type": "code",
   "source": [
    "# Matriz de confusión\n",
    "cm = confusion_matrix(y_test, y_pred)\n",
    "sns.heatmap(cm, annot=True, fmt=\"d\", cmap=\"Blues\")\n",
    "plt.xlabel(\"Predicción\")\n",
    "plt.ylabel(\"Real\")\n",
    "plt.title(\"Matriz de Confusión\")\n",
    "plt.show()"
   ],
   "id": "dc3637bdae8c123a",
   "outputs": [
    {
     "data": {
      "text/plain": [
       "<Figure size 640x480 with 2 Axes>"
      ],
      "image/png": "[encoded data removed]"
     },
     "metadata": {},
     "output_type": "display_data"
    }
   ],
   "execution_count": 62
  }
 ],
 "metadata": {
  "kernelspec": {
   "display_name": "Python 3",
   "language": "python",
   "name": "python3"
  },
  "language_info": {
   "codemirror_mode": {
    "name": "ipython",
    "version": 2
   },
   "file_extension": ".py",
   "mimetype": "text/x-python",
   "name": "python",
   "nbconvert_exporter": "python",
   "pygments_lexer": "ipython2",
   "version": "2.7.6"
  }
 },
 "nbformat": 4,
 "nbformat_minor": 5
}
