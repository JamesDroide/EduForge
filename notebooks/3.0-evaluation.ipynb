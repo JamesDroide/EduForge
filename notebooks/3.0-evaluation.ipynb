{
 "cells": [
  {
   "metadata": {},
   "cell_type": "markdown",
   "source": "Entrenamiento del Modelo",
   "id": "aff7376ec5422a0c"
  },
  {
   "cell_type": "code",
   "execution_count": null,
   "id": "initial_id",
   "metadata": {
    "collapsed": true
   },
   "outputs": [],
   "source": [
    "import pandas as pd\n",
    "from sklearn.model_selection import train_test_split\n",
    "from sklearn.ensemble import RandomForestClassifier\n",
    "from sklearn.metrics import classification_report\n",
    "from sklearn.preprocessing import StandardScaler"
   ]
  },
  {
   "metadata": {},
   "cell_type": "markdown",
   "source": "Cargar el dataset preprocesado",
   "id": "e9afd17892f4fc4a"
  },
  {
   "metadata": {},
   "cell_type": "code",
   "outputs": [],
   "execution_count": null,
   "source": "df = pd.read_csv('../data/processed/dataset_estudiantes_preprocesado.csv')",
   "id": "46e0c74b423ed41"
  },
  {
   "metadata": {},
   "cell_type": "markdown",
   "source": "Separar características (X) y variable objetivo (y)",
   "id": "e3f6a2c9a2b9af51"
  },
  {
   "metadata": {},
   "cell_type": "code",
   "outputs": [],
   "execution_count": null,
   "source": [
    "X = df.drop(columns=['deserta'])\n",
    "y = df['deserta']"
   ],
   "id": "53656183c94ca641"
  },
  {
   "metadata": {},
   "cell_type": "markdown",
   "source": "Normalización de los datos",
   "id": "e7dd8e182cd366ea"
  },
  {
   "metadata": {},
   "cell_type": "code",
   "outputs": [],
   "execution_count": null,
   "source": [
    "scaler = StandardScaler()\n",
    "X_scaled = scaler.fit_transform(X)\n"
   ],
   "id": "2fddd8e4a6af0e53"
  },
  {
   "metadata": {},
   "cell_type": "markdown",
   "source": "División en datos de entrenamiento y prueba",
   "id": "c0a8cabd283f4e6"
  },
  {
   "metadata": {},
   "cell_type": "code",
   "outputs": [],
   "execution_count": null,
   "source": "X_train, X_test, y_train, y_test = train_test_split(X_scaled, y, test_size=0.2, random_state=42)",
   "id": "c5d618822e9ab37c"
  },
  {
   "metadata": {},
   "cell_type": "markdown",
   "source": "Entrenamiento del modelo",
   "id": "affa77fd0c1c4da3"
  },
  {
   "metadata": {},
   "cell_type": "code",
   "outputs": [],
   "execution_count": null,
   "source": [
    "model = RandomForestClassifier(n_estimators=100, random_state=42)\n",
    "model.fit(X_train, y_train)"
   ],
   "id": "267642555ac51fa8"
  },
  {
   "metadata": {},
   "cell_type": "markdown",
   "source": "Evaluación del modelo",
   "id": "656af5581f633613"
  },
  {
   "metadata": {},
   "cell_type": "code",
   "outputs": [],
   "execution_count": null,
   "source": [
    "y_pred = model.predict(X_test)\n",
    "print(\"Reporte de clasificación:\")\n",
    "print(classification_report(y_test, y_pred))"
   ],
   "id": "cb9c8c21007fc61e"
  },
  {
   "metadata": {},
   "cell_type": "markdown",
   "source": "Guardar el modelo entrenado",
   "id": "94089ad83387b7a"
  },
  {
   "metadata": {},
   "cell_type": "code",
   "outputs": [],
   "execution_count": null,
   "source": [
    "import pickle\n",
    "with open('../models/trained/dropout_model.pkl', 'wb') as file:\n",
    "    pickle.dump(model, file)\n",
    "\n",
    "print(\"Modelo entrenado y guardado exitosamente.\")"
   ],
   "id": "7f5f7148445fd907"
  },
  {
   "metadata": {},
   "cell_type": "markdown",
   "source": "Evaluación del Modelo",
   "id": "66b56b4381fcf58e"
  },
  {
   "metadata": {},
   "cell_type": "code",
   "outputs": [],
   "execution_count": null,
   "source": [
    "# Evaluación del modelo\n",
    "y_pred = model.predict(X_test)\n",
    "\n",
    "# Reporte de clasificación\n",
    "print(\"Reporte de clasificación:\")\n",
    "print(classification_report(y_test, y_pred))\n",
    "\n",
    "# Matriz de confusión\n",
    "cm = confusion_matrix(y_test, y_pred)\n",
    "print(\"Matriz de confusión:\")\n",
    "print(cm)\n"
   ],
   "id": "e22323f8b72e2122"
  },
  {
   "metadata": {},
   "cell_type": "markdown",
   "source": "",
   "id": "84e407b81ac9d04b"
  }
 ],
 "metadata": {
  "kernelspec": {
   "display_name": "Python 3",
   "language": "python",
   "name": "python3"
  },
  "language_info": {
   "codemirror_mode": {
    "name": "ipython",
    "version": 2
   },
   "file_extension": ".py",
   "mimetype": "text/x-python",
   "name": "python",
   "nbconvert_exporter": "python",
   "pygments_lexer": "ipython2",
   "version": "2.7.6"
  }
 },
 "nbformat": 4,
 "nbformat_minor": 5
}
