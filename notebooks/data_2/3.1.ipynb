{
 "cells": [
  {
   "metadata": {
    "ExecuteTime": {
     "end_time": "2025-06-25T20:48:22.882973Z",
     "start_time": "2025-06-25T20:48:22.745939Z"
    }
   },
   "cell_type": "code",
   "source": [
    "import pandas as pd\n",
    "from sklearn.model_selection import train_test_split\n",
    "from sklearn.ensemble import RandomForestClassifier\n",
    "from sklearn.metrics import accuracy_score, confusion_matrix\n",
    "from sklearn.preprocessing import LabelEncoder\n",
    "\n",
    "# 1. Cargar datos\n",
    "df = pd.read_csv(r'C:\\Users\\james\\OneDrive\\Documentos\\PREGRADO UPAO\\CICLO 9\\Tesis I\\Proyecto\\BackEnds\\EduForge\\data\\student_data_preprocesado.csv')\n",
    "\n",
    "# Codificar columnas categóricas\n",
    "for col in df.select_dtypes(include=['object', 'category']).columns:\n",
    "    df[col] = LabelEncoder().fit_transform(df[col])\n",
    "\n",
    "# Dividir datos en entrenamiento y prueba\n",
    "X = df.drop('nota_final', axis=1)  # Usamos todas las columnas excepto la nota final (G3)\n",
    "y = df['nota_final']  # La columna a predecir (por ejemplo, si la nota final es baja)\n",
    "y = (y < 10).astype(int)  # Si la calificación es menor a 10, se considera deserción\n",
    "\n",
    "X_train, X_test, y_train, y_test = train_test_split(X, y, test_size=0.2, random_state=42)\n",
    "\n",
    "# Entrenamiento del modelo\n",
    "model = RandomForestClassifier(n_estimators=100, random_state=42)\n",
    "model.fit(X_train, y_train)\n",
    "\n",
    "# Predicción\n",
    "y_pred = model.predict(X_test)\n",
    "\n",
    "# Evaluación\n",
    "accuracy = accuracy_score(y_test, y_pred)\n",
    "print(f'Accuracy: {accuracy}')\n",
    "print('Confusion Matrix:')\n",
    "print(confusion_matrix(y_test, y_pred, labels=[0, 1]))"
   ],
   "id": "2cf69ef0c9588f30",
   "outputs": [
    {
     "name": "stdout",
     "output_type": "stream",
     "text": [
      "Accuracy: 1.0\n",
      "Confusion Matrix:\n",
      "[[ 0  0]\n",
      " [ 0 79]]\n"
     ]
    }
   ],
   "execution_count": 4
  },
  {
   "metadata": {
    "ExecuteTime": {
     "end_time": "2025-06-25T20:48:53.467968Z",
     "start_time": "2025-06-25T20:48:53.441451Z"
    }
   },
   "cell_type": "code",
   "source": [
    "importances = model.feature_importances_\n",
    "feature_names = X.columns\n",
    "importance_df = pd.DataFrame({'Feature': feature_names, 'Importance': importances})\n",
    "importance_df = importance_df.sort_values(by='Importance', ascending=False)\n",
    "print(importance_df)"
   ],
   "id": "4aee3870ae9ce340",
   "outputs": [
    {
     "name": "stdout",
     "output_type": "stream",
     "text": [
      "                          Feature  Importance\n",
      "0                         escuela         0.0\n",
      "1                            sexo         0.0\n",
      "2                            edad         0.0\n",
      "3                       direccion         0.0\n",
      "4                  tamano_familia         0.0\n",
      "5                 estado_parental         0.0\n",
      "6           nivel_educativo_madre         0.0\n",
      "7           nivel_educativo_padre         0.0\n",
      "8                   trabajo_madre         0.0\n",
      "9                   trabajo_padre         0.0\n",
      "10          motivo_elegir_escuela         0.0\n",
      "11                          tutor         0.0\n",
      "12                   tiempo_viaje         0.0\n",
      "13                 tiempo_estudio         0.0\n",
      "14            fracasos_anteriores         0.0\n",
      "15                  apoyo_escolar         0.0\n",
      "16                 apoyo_familiar         0.0\n",
      "17                   clases_pagas         0.0\n",
      "18  actividades_extracurriculares         0.0\n",
      "19                jardin_infantil         0.0\n",
      "20     interes_educacion_superior         0.0\n",
      "21                acceso_internet         0.0\n",
      "22             relacion_romantica         0.0\n",
      "23              relacion_familiar         0.0\n",
      "24                   tiempo_libre         0.0\n",
      "25             salidas_con_amigos         0.0\n",
      "26           consumo_alcohol_dias         0.0\n",
      "27   consumo_alcohol_fines_semana         0.0\n",
      "28                          salud         0.0\n",
      "29                      ausencias         0.0\n",
      "30                 nota_periodo_1         0.0\n",
      "31                 nota_periodo_2         0.0\n"
     ]
    }
   ],
   "execution_count": 5
  },
  {
   "metadata": {},
   "cell_type": "code",
   "outputs": [],
   "execution_count": null,
   "source": "",
   "id": "1d4fc30fa42920ad"
  }
 ],
 "metadata": {
  "kernelspec": {
   "display_name": "Python 3",
   "language": "python",
   "name": "python3"
  },
  "language_info": {
   "codemirror_mode": {
    "name": "ipython",
    "version": 2
   },
   "file_extension": ".py",
   "mimetype": "text/x-python",
   "name": "python",
   "nbconvert_exporter": "python",
   "pygments_lexer": "ipython2",
   "version": "2.7.6"
  }
 },
 "nbformat": 4,
 "nbformat_minor": 5
}
