{
 "cells": [
  {
   "metadata": {},
   "cell_type": "code",
   "outputs": [],
   "execution_count": null,
   "source": "!pip install pandas scikit-learn",
   "id": "59f524f84942d493"
  },
  {
   "metadata": {},
   "cell_type": "markdown",
   "source": " Cargar el Dataset",
   "id": "ed34334e9bd228e7"
  },
  {
   "cell_type": "code",
   "execution_count": null,
   "id": "initial_id",
   "metadata": {
    "collapsed": true
   },
   "outputs": [],
   "source": [
    "import pandas as pd\n",
    "\n",
    "# Cargar el dataset\n",
    "df = pd.read_csv(\"../data/raw/dataset_estudiantes_categorizado.csv\")  # Ajusta la ruta si es necesario\n",
    "df.head()  # Mostrar las primeras filas del dataset"
   ]
  },
  {
   "metadata": {},
   "cell_type": "markdown",
   "source": "Convertir la Columna 'conducta' a Variables Numéricas",
   "id": "dfffbc2fc79f4bd6"
  },
  {
   "metadata": {},
   "cell_type": "code",
   "outputs": [],
   "execution_count": null,
   "source": [
    "from sklearn.preprocessing import LabelEncoder\n",
    "\n",
    "# Convertir 'conducta' en variable numérica: 'bueno' -> 1, 'malo' -> 0\n",
    "le = LabelEncoder()\n",
    "df['conducta'] = le.fit_transform(df['conducta'])\n",
    "\n",
    "df.head()  # Verificar el cambio\n"
   ],
   "id": "e66a9427dac40990"
  },
  {
   "metadata": {},
   "cell_type": "markdown",
   "source": "Crear la Columna 'deserta'",
   "id": "71c5f9fbce5fbb03"
  },
  {
   "metadata": {},
   "cell_type": "code",
   "outputs": [],
   "execution_count": null,
   "source": [
    "# Crear columna 'deserta' basado en reglas establecidas\n",
    "df['deserta'] = df.apply(lambda row: 1 if (row['calificacion'] <= 10 or row['asistencia'] < 75 or row['conducta'] == 0) else 0, axis=1)\n",
    "\n",
    "df.head()  # Verificar el cambio\n"
   ],
   "id": "fc90657a0d9f9ecf"
  }
 ],
 "metadata": {
  "kernelspec": {
   "display_name": "Python 3",
   "language": "python",
   "name": "python3"
  },
  "language_info": {
   "codemirror_mode": {
    "name": "ipython",
    "version": 2
   },
   "file_extension": ".py",
   "mimetype": "text/x-python",
   "name": "python",
   "nbconvert_exporter": "python",
   "pygments_lexer": "ipython2",
   "version": "2.7.6"
  }
 },
 "nbformat": 4,
 "nbformat_minor": 5
}
